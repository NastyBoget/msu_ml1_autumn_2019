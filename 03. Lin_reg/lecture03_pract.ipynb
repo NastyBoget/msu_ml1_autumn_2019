{
 "cells": [
  {
   "cell_type": "markdown",
   "metadata": {
    "collapsed": true
   },
   "source": [
    "# Практика. "
   ]
  },
  {
   "cell_type": "markdown",
   "metadata": {},
   "source": [
    "Рассмотрим одну из самых популярных прикладных задач - рекомендательную систему."
   ]
  },
  {
   "cell_type": "markdown",
   "metadata": {},
   "source": [
    "Рассмотрим задачу рекомендации фильмов. Данные о рейтинге фильмов можно скачать тут: \n",
    "https://cloud.mail.ru/public/CSjR/mPctRVc2u"
   ]
  },
  {
   "cell_type": "code",
   "execution_count": 1,
   "metadata": {
    "collapsed": true
   },
   "outputs": [],
   "source": [
    "import pandas as pd\n",
    "from matplotlib import pyplot as plt\n",
    "from wordcloud import WordCloud\n",
    "from matplotlib.pyplot import figure"
   ]
  },
  {
   "cell_type": "code",
   "execution_count": 2,
   "metadata": {},
   "outputs": [
    {
     "data": {
      "text/html": [
       "<div>\n",
       "<style>\n",
       "    .dataframe thead tr:only-child th {\n",
       "        text-align: right;\n",
       "    }\n",
       "\n",
       "    .dataframe thead th {\n",
       "        text-align: left;\n",
       "    }\n",
       "\n",
       "    .dataframe tbody tr th {\n",
       "        vertical-align: top;\n",
       "    }\n",
       "</style>\n",
       "<table border=\"1\" class=\"dataframe\">\n",
       "  <thead>\n",
       "    <tr style=\"text-align: right;\">\n",
       "      <th></th>\n",
       "      <th>userID</th>\n",
       "      <th>movieID</th>\n",
       "      <th>rating</th>\n",
       "      <th>date_day</th>\n",
       "      <th>date_month</th>\n",
       "      <th>date_year</th>\n",
       "      <th>date_hour</th>\n",
       "      <th>date_minute</th>\n",
       "      <th>date_second</th>\n",
       "    </tr>\n",
       "  </thead>\n",
       "  <tbody>\n",
       "    <tr>\n",
       "      <th>0</th>\n",
       "      <td>75</td>\n",
       "      <td>3</td>\n",
       "      <td>1.0</td>\n",
       "      <td>29</td>\n",
       "      <td>10</td>\n",
       "      <td>2006</td>\n",
       "      <td>23</td>\n",
       "      <td>17</td>\n",
       "      <td>16</td>\n",
       "    </tr>\n",
       "    <tr>\n",
       "      <th>1</th>\n",
       "      <td>75</td>\n",
       "      <td>32</td>\n",
       "      <td>4.5</td>\n",
       "      <td>29</td>\n",
       "      <td>10</td>\n",
       "      <td>2006</td>\n",
       "      <td>23</td>\n",
       "      <td>23</td>\n",
       "      <td>44</td>\n",
       "    </tr>\n",
       "    <tr>\n",
       "      <th>2</th>\n",
       "      <td>75</td>\n",
       "      <td>110</td>\n",
       "      <td>4.0</td>\n",
       "      <td>29</td>\n",
       "      <td>10</td>\n",
       "      <td>2006</td>\n",
       "      <td>23</td>\n",
       "      <td>30</td>\n",
       "      <td>8</td>\n",
       "    </tr>\n",
       "    <tr>\n",
       "      <th>3</th>\n",
       "      <td>75</td>\n",
       "      <td>160</td>\n",
       "      <td>2.0</td>\n",
       "      <td>29</td>\n",
       "      <td>10</td>\n",
       "      <td>2006</td>\n",
       "      <td>23</td>\n",
       "      <td>16</td>\n",
       "      <td>52</td>\n",
       "    </tr>\n",
       "    <tr>\n",
       "      <th>4</th>\n",
       "      <td>75</td>\n",
       "      <td>163</td>\n",
       "      <td>4.0</td>\n",
       "      <td>29</td>\n",
       "      <td>10</td>\n",
       "      <td>2006</td>\n",
       "      <td>23</td>\n",
       "      <td>29</td>\n",
       "      <td>30</td>\n",
       "    </tr>\n",
       "  </tbody>\n",
       "</table>\n",
       "</div>"
      ],
      "text/plain": [
       "   userID  movieID  rating  date_day  date_month  date_year  date_hour  \\\n",
       "0      75        3     1.0        29          10       2006         23   \n",
       "1      75       32     4.5        29          10       2006         23   \n",
       "2      75      110     4.0        29          10       2006         23   \n",
       "3      75      160     2.0        29          10       2006         23   \n",
       "4      75      163     4.0        29          10       2006         23   \n",
       "\n",
       "   date_minute  date_second  \n",
       "0           17           16  \n",
       "1           23           44  \n",
       "2           30            8  \n",
       "3           16           52  \n",
       "4           29           30  "
      ]
     },
     "execution_count": 2,
     "metadata": {},
     "output_type": "execute_result"
    }
   ],
   "source": [
    "data = pd.read_csv('data/user_ratedmovies.dat', sep='\\t')\n",
    "data.head()"
   ]
  },
  {
   "cell_type": "code",
   "execution_count": 3,
   "metadata": {},
   "outputs": [
    {
     "data": {
      "image/png": "[encoded data removed]",
      "text/plain": [
       "<matplotlib.figure.Figure at 0x107d25fd0>"
      ]
     },
     "metadata": {},
     "output_type": "display_data"
    }
   ],
   "source": [
    "data['rating'].hist()\n",
    "plt.show()"
   ]
  },
  {
   "cell_type": "markdown",
   "metadata": {},
   "source": [
    " Есть 2 разновидности обучения рекомендательных систем: \n",
    " \n",
    " 1) explicit feedback -- пользователь ставит оценку объекту\n",
    " \n",
    " 2) implicit feedback -- мы понимаем, понравился объект или не понравится по неявному взаимодействию пользователя с системой\n",
    " \n"
   ]
  },
  {
   "cell_type": "markdown",
   "metadata": {},
   "source": [
    "Как мы в итоге проставлям таргеты?"
   ]
  },
  {
   "cell_type": "markdown",
   "metadata": {},
   "source": [
    "Все большие рекомендательные системы состоят из двух частей\n",
    "\n",
    "1) Черновой отбор кандидатов\n",
    "\n",
    "2) Финальная модель\n"
   ]
  },
  {
   "cell_type": "markdown",
   "metadata": {},
   "source": [
    "# Часть 1. Отбираем кандидатов с помощью расстояния"
   ]
  },
  {
   "cell_type": "markdown",
   "metadata": {},
   "source": [
    "Простые варианты чернового отбора:\n",
    "\n",
    "1) Самые популярные/новые фильмы\n",
    "\n",
    "2) Фильмы, которые как-то связаны с человеком\n",
    "\n",
    "Как свзяны? Какой подход лучше?"
   ]
  },
  {
   "cell_type": "markdown",
   "metadata": {},
   "source": [
    "Будем пытаться найти в нашей базе похожие фильмы. Если человеку понравился\n",
    "фильм А, будем для финальной модели отдаваь фильмы, похожие на этот\n",
    "Возьмем все фильмы, которые понравились пользователям. Базовая гипотеза --  фильмы, которые  смотрят вместе одни люди скорее будут похожими.  \n"
   ]
  },
  {
   "cell_type": "code",
   "execution_count": 4,
   "metadata": {},
   "outputs": [
    {
     "name": "stdout",
     "output_type": "stream",
     "text": [
      "(682605, 9)\n"
     ]
    }
   ],
   "source": [
    "liked_data = data[data.rating >= 3]\n",
    "print (liked_data.shape)"
   ]
  },
  {
   "cell_type": "code",
   "execution_count": 5,
   "metadata": {
    "collapsed": true
   },
   "outputs": [],
   "source": [
    "users = list(liked_data['userID'])\n",
    "movies = list(liked_data['movieID'])"
   ]
  },
  {
   "cell_type": "code",
   "execution_count": 6,
   "metadata": {
    "collapsed": true
   },
   "outputs": [],
   "source": [
    "user2movies = {}\n",
    "for i in range(len(users)):\n",
    "    user_id = users[i]\n",
    "    movie_id = movies[i]\n",
    "    if user_id not in user2movies:\n",
    "        user2movies[user_id] = set()\n",
    "    user2movies[user_id].add(movie_id)"
   ]
  },
  {
   "cell_type": "markdown",
   "metadata": {},
   "source": [
    "### Pointwise mutual information \n",
    "Часто используемая мера связи между категориальными признаками. \n",
    "$$PMI(x,y) = \\log \\frac{p(x,y)}{p(x) p(y)} $$\n",
    "В дискретном случае, если всего $N$ событий и мы хотим посчитать вероятность, что $x, y$ встретились вместе:\n",
    "$$PMI(x,y) = \\log \\frac{n_{x,y}  N}{n_x, n_y}, $$\n",
    "где $n_x - $ число событий где встретилось $x$,  $n_y - $ число событий где встретилось $y, n_{x,y} - $ число событий где встретились вместе $x$ и $y$, $N$ - общее число событий"
   ]
  },
  {
   "cell_type": "code",
   "execution_count": 7,
   "metadata": {
    "collapsed": true
   },
   "outputs": [],
   "source": [
    "pairs_count = {}\n",
    "movies_count = {}\n",
    "for k, new_user in enumerate(user2movies):\n",
    "    movies = list(user2movies[new_user])\n",
    "    for i in range(len(movies)):\n",
    "        i_movie = movies[i]\n",
    "        if i_movie not in movies_count:\n",
    "            movies_count[i_movie] = 0\n",
    "        movies_count[i_movie] += 1\n",
    "        for j in range(i + 1, len(movies)):\n",
    "            j_movie = movies[j]\n",
    "            assert (i_movie != j_movie)\n",
    "            if i_movie < j_movie:\n",
    "                pair = (i_movie, j_movie)\n",
    "            else:\n",
    "                pair = (j_movie, i_movie)\n",
    "            if pair not in pairs_count:\n",
    "                pairs_count[pair] = 0\n",
    "            pairs_count[pair] += 1"
   ]
  },
  {
   "cell_type": "markdown",
   "metadata": {},
   "source": [
    "найдем похожие фильмы на мой любимый по PMI!"
   ]
  },
  {
   "cell_type": "code",
   "execution_count": 9,
   "metadata": {},
   "outputs": [
    {
     "data": {
      "text/html": [
       "<div>\n",
       "<style>\n",
       "    .dataframe thead tr:only-child th {\n",
       "        text-align: right;\n",
       "    }\n",
       "\n",
       "    .dataframe thead th {\n",
       "        text-align: left;\n",
       "    }\n",
       "\n",
       "    .dataframe tbody tr th {\n",
       "        vertical-align: top;\n",
       "    }\n",
       "</style>\n",
       "<table border=\"1\" class=\"dataframe\">\n",
       "  <thead>\n",
       "    <tr style=\"text-align: right;\">\n",
       "      <th></th>\n",
       "      <th>id</th>\n",
       "      <th>title</th>\n",
       "      <th>imdbID</th>\n",
       "      <th>spanishTitle</th>\n",
       "      <th>imdbPictureURL</th>\n",
       "      <th>year</th>\n",
       "      <th>rtID</th>\n",
       "      <th>rtAllCriticsRating</th>\n",
       "      <th>rtAllCriticsNumReviews</th>\n",
       "      <th>rtAllCriticsNumFresh</th>\n",
       "      <th>...</th>\n",
       "      <th>rtAllCriticsScore</th>\n",
       "      <th>rtTopCriticsRating</th>\n",
       "      <th>rtTopCriticsNumReviews</th>\n",
       "      <th>rtTopCriticsNumFresh</th>\n",
       "      <th>rtTopCriticsNumRotten</th>\n",
       "      <th>rtTopCriticsScore</th>\n",
       "      <th>rtAudienceRating</th>\n",
       "      <th>rtAudienceNumRatings</th>\n",
       "      <th>rtAudienceScore</th>\n",
       "      <th>rtPictureURL</th>\n",
       "    </tr>\n",
       "  </thead>\n",
       "  <tbody>\n",
       "    <tr>\n",
       "      <th>0</th>\n",
       "      <td>1</td>\n",
       "      <td>Toy story</td>\n",
       "      <td>114709</td>\n",
       "      <td>Toy story (juguetes)</td>\n",
       "      <td>http://ia.media-imdb.com/images/M/MV5BMTMwNDU0...</td>\n",
       "      <td>1995</td>\n",
       "      <td>toy_story</td>\n",
       "      <td>9</td>\n",
       "      <td>73</td>\n",
       "      <td>73</td>\n",
       "      <td>...</td>\n",
       "      <td>100</td>\n",
       "      <td>8.5</td>\n",
       "      <td>17</td>\n",
       "      <td>17</td>\n",
       "      <td>0</td>\n",
       "      <td>100</td>\n",
       "      <td>3.7</td>\n",
       "      <td>102338</td>\n",
       "      <td>81</td>\n",
       "      <td>http://content7.flixster.com/movie/10/93/63/10...</td>\n",
       "    </tr>\n",
       "  </tbody>\n",
       "</table>\n",
       "<p>1 rows × 21 columns</p>\n",
       "</div>"
      ],
      "text/plain": [
       "   id      title  imdbID          spanishTitle  \\\n",
       "0   1  Toy story  114709  Toy story (juguetes)   \n",
       "\n",
       "                                      imdbPictureURL  year       rtID  \\\n",
       "0  http://ia.media-imdb.com/images/M/MV5BMTMwNDU0...  1995  toy_story   \n",
       "\n",
       "  rtAllCriticsRating rtAllCriticsNumReviews rtAllCriticsNumFresh  \\\n",
       "0                  9                     73                   73   \n",
       "\n",
       "                         ...                         rtAllCriticsScore  \\\n",
       "0                        ...                                       100   \n",
       "\n",
       "  rtTopCriticsRating rtTopCriticsNumReviews rtTopCriticsNumFresh  \\\n",
       "0                8.5                     17                   17   \n",
       "\n",
       "  rtTopCriticsNumRotten rtTopCriticsScore rtAudienceRating  \\\n",
       "0                     0               100              3.7   \n",
       "\n",
       "  rtAudienceNumRatings rtAudienceScore  \\\n",
       "0               102338              81   \n",
       "\n",
       "                                        rtPictureURL  \n",
       "0  http://content7.flixster.com/movie/10/93/63/10...  \n",
       "\n",
       "[1 rows x 21 columns]"
      ]
     },
     "execution_count": 9,
     "metadata": {},
     "output_type": "execute_result"
    }
   ],
   "source": [
    "movies_data = pd.read_csv('data/movies.dat', sep='\\t',  encoding = \"ISO-8859-1\")\n",
    "movies_data[movies_data.id == 1 ]"
   ]
  },
  {
   "cell_type": "code",
   "execution_count": 10,
   "metadata": {
    "collapsed": true
   },
   "outputs": [],
   "source": [
    "scores = []\n",
    "REG_THR = 300\n",
    "for i in pairs_count:\n",
    "    if pairs_count[i] < REG_THR:\n",
    "        continue\n",
    "    score = pairs_count[i] / (movies_count[i[0]] * movies_count[i[1]])\n",
    "    if i[0] == 1:\n",
    "        scores.append((score, i[1]))\n",
    "top_sim_docs = [i[1] for i in sorted(scores, reverse=True)][0:30]"
   ]
  },
  {
   "cell_type": "code",
   "execution_count": 11,
   "metadata": {},
   "outputs": [
    {
     "name": "stdout",
     "output_type": "stream",
     "text": [
      "Toy Story\n",
      "A Bug's Life\n",
      "The Little Mermaid\n",
      "Snow White and the Seven Dwarfs\n",
      "Honey, I Shrunk the Kids\n",
      "Beauty and the Beast\n",
      "The Lost World: Jurassic Park\n",
      "Babe\n",
      "Mary Poppins\n",
      "Antz\n",
      "Aladdin\n",
      "Bill & Ted's Excellent Adventure\n",
      "Jumanji\n",
      "Batman Returns\n",
      "The Lion King\n",
      "Galaxy Quest\n",
      "Happy Gilmore\n",
      "Legally Blonde\n",
      "A League of Their Own\n",
      "Batman Forever\n",
      "Field of Dreams\n",
      "Clear and Present Danger\n",
      "Wayne's World\n",
      "Air Force One\n",
      "The Wizard of Oz\n",
      "Fantasia\n",
      "Twister\n",
      "Chicken Run\n",
      "Signs\n",
      "Home Alone\n"
     ]
    }
   ],
   "source": [
    "all_words = \"\"\n",
    "for i in top_sim_docs:\n",
    "    new_tile = movies_data[movies_data.id == i ].title.values[0]\n",
    "    print (new_tile)\n",
    "    all_words += \" \" + movies_data[movies_data.id == i ].title.values[0]"
   ]
  },
  {
   "cell_type": "code",
   "execution_count": 13,
   "metadata": {},
   "outputs": [
    {
     "name": "stdout",
     "output_type": "stream",
     "text": [
      "Toy Story\n",
      "A Bug's Life\n",
      "The Little Mermaid\n",
      "Snow White and the Seven Dwarfs\n",
      "Honey, I Shrunk the Kids\n",
      "Beauty and the Beast\n",
      "The Lost World: Jurassic Park\n",
      "Babe\n",
      "Mary Poppins\n",
      "Antz\n",
      "Aladdin\n",
      "Bill & Ted's Excellent Adventure\n",
      "Jumanji\n",
      "Batman Returns\n",
      "The Lion King\n",
      "Galaxy Quest\n",
      "Happy Gilmore\n",
      "Legally Blonde\n",
      "A League of Their Own\n",
      "Batman Forever\n",
      "Field of Dreams\n",
      "Clear and Present Danger\n",
      "Wayne's World\n",
      "Air Force One\n",
      "The Wizard of Oz\n",
      "Fantasia\n",
      "Twister\n",
      "Chicken Run\n",
      "Signs\n",
      "Home Alone\n"
     ]
    }
   ],
   "source": [
    "all_words = \"\"\n",
    "for i in top_sim_docs:\n",
    "    new_tile = movies_data[movies_data.id == i ].title.values[0]\n",
    "    print (new_tile)\n",
    "    all_words += \" \" + movies_data[movies_data.id == i ].title.values[0]"
   ]
  },
  {
   "cell_type": "code",
   "execution_count": 18,
   "metadata": {},
   "outputs": [
    {
     "data": {
      "image/png": "[encoded data removed]",
      "text/plain": [
       "<matplotlib.figure.Figure at 0x10a1aa898>"
      ]
     },
     "metadata": {},
     "output_type": "display_data"
    }
   ],
   "source": [
    "wordcloud = WordCloud().generate(all_words)\n",
    "figure(num=None, figsize=(12, 8), dpi=80, facecolor='w', edgecolor='k')\n",
    "plt.imshow(wordcloud)\n",
    "plt.axis(\"off\")\n",
    "plt.show()"
   ]
  },
  {
   "cell_type": "markdown",
   "metadata": {
    "collapsed": true
   },
   "source": [
    "# Часть 2. Делаем финальную модель регрессии"
   ]
  },
  {
   "cell_type": "code",
   "execution_count": 4,
   "metadata": {},
   "outputs": [
    {
     "name": "stdout",
     "output_type": "stream",
     "text": [
      "(712092, 9)\n",
      "(56232, 9)\n"
     ]
    }
   ],
   "source": [
    "train_data = data[data.date_year < 2008] \n",
    "test_data = data[ (data.date_year == 2008) & (data.userID.isin(train_data.userID))] \n",
    "print (train_data.shape)\n",
    "print (test_data.shape)"
   ]
  },
  {
   "cell_type": "code",
   "execution_count": 5,
   "metadata": {
    "collapsed": true
   },
   "outputs": [],
   "source": [
    "history_data = train_data[train_data.date_year < 2007]\n",
    "train_data = train_data[train_data.date_year == 2007]"
   ]
  },
  {
   "cell_type": "code",
   "execution_count": 12,
   "metadata": {},
   "outputs": [
    {
     "name": "stderr",
     "output_type": "stream",
     "text": [
      "/Users/v.vikulin/anaconda/lib/python3.5/site-packages/ipykernel/__main__.py:1: UserWarning: Boolean Series key will be reindexed to match DataFrame index.\n",
      "  if __name__ == '__main__':\n"
     ]
    }
   ],
   "source": [
    "liked_data = history_data[data.rating >= 3]\n",
    "users = list(history_data['userID'])\n",
    "movies = list(history_data['movieID'])\n",
    "ratings = list(history_data['rating'])\n",
    "user2movies = {}\n",
    "for i in range(len(users)):\n",
    "    user_id = str(users[i])\n",
    "    movie_id = str(movies[i])\n",
    "    rating =  ratings[i]\n",
    "    if rating >= 3:\n",
    "        liked = '1'\n",
    "    else:\n",
    "        liked = '-1'\n",
    "    if user_id not in user2movies:\n",
    "        user2movies[user_id] = set()\n",
    "    user2movies[user_id].add('{}:{}'.format(movie_id, liked))\n"
   ]
  },
  {
   "cell_type": "code",
   "execution_count": 15,
   "metadata": {
    "collapsed": true
   },
   "outputs": [],
   "source": [
    "def to_vw_format(user_id, film_id, target=None):\n",
    "    if user_id in user2movies:\n",
    "        user_films = user2movies[user_id]\n",
    "    else:\n",
    "        user_films = ['-1:-1']\n",
    "    return str(target or '') + ' |u ' + str(user_id)  + ' |f ' + str(film_id) + ' |h ' + ' '.join(user_films)+ '\\n'"
   ]
  },
  {
   "cell_type": "code",
   "execution_count": 16,
   "metadata": {},
   "outputs": [
    {
     "data": {
      "text/plain": [
       "' |u 26624 |f 3 |h 4272:1 1580:1 2019:1 1216:1 3462:1 3578:-1 1960:1 2728:-1 2762:-1 2617:-1 914:1 2571:-1 2722:-1 6539:1 2011:-1 8368:-1 7371:1 912:1 2672:-1 3328:1 714:1 4973:1 27834:1 8370:-1 3000:1 6969:1 2953:-1 8025:1 1961:1 6542:1 5945:-1 7234:1 2150:1 236:-1 26776:1 3910:1 2931:1 8292:1 6792:-1 4896:-1 2686:1 8012:1 3357:1 4993:-1 3742:-1 5291:1 1211:1 8154:1 858:1 8125:1 8604:1 1450:1 18:-1 1214:-1 4223:-1 4788:1 2640:-1 1232:1 26150:1 2012:-1 915:1 7153:-1 5952:-1 1249:1 3030:1 4881:1 6492:1 308:1 6350:1 953:1 8636:-1 1196:-1 8794:-1 5971:1 8656:1 916:1 1251:1 2018:1 6793:-1 1243:1 6433:1 7925:1 8327:1 1161:1 2116:1 26662:1 1200:-1 5690:1 901:1 3503:1 1747:1 7238:-1 5991:1 1951:1 5888:1 8360:-1 1210:-1 2701:-1 2843:-1 8372:-1 33493:-1 1225:1 3114:-1 1270:1 260:-1 7063:-1 7577:1 1298:-1 3310:1 1193:-1 70:-1 2858:-1 2021:-1 2068:1 1079:1 4306:1 8199:1 1246:1 2971:1\\n'"
      ]
     },
     "execution_count": 16,
     "metadata": {},
     "output_type": "execute_result"
    }
   ],
   "source": [
    "to_vw_format('26624', '3')"
   ]
  },
  {
   "cell_type": "code",
   "execution_count": 17,
   "metadata": {
    "collapsed": true
   },
   "outputs": [],
   "source": [
    "\n",
    "with open('train.vw', 'w') as of:\n",
    "    for i in range(len(train_data)):\n",
    "        new_data = train_data.iloc[i]\n",
    "        user_id = str(int(new_data['userID']))\n",
    "        movie_id = int(new_data['movieID'])\n",
    "        target = new_data['rating']\n",
    "        of.write(to_vw_format(user_id, movie_id, target))\n",
    "    "
   ]
  },
  {
   "cell_type": "code",
   "execution_count": 18,
   "metadata": {
    "collapsed": true
   },
   "outputs": [],
   "source": [
    "with open('test.vw', 'w') as of:\n",
    "    for i in range(len(test_data)):\n",
    "        new_data = test_data.iloc[i]\n",
    "        user_id = str(int(new_data['userID']))\n",
    "        movie_id = int(new_data['movieID'])\n",
    "        target = new_data['rating']\n",
    "        of.write(to_vw_format(user_id, movie_id))"
   ]
  },
  {
   "cell_type": "code",
   "execution_count": 22,
   "metadata": {},
   "outputs": [
    {
     "name": "stdout",
     "output_type": "stream",
     "text": [
      "creating quadratic features for pairs: fh \n",
      "final_regressor = test_model.vw\n",
      "Num weight bits = 18\n",
      "learning rate = 0.5\n",
      "initial_t = 0\n",
      "power_t = 0.5\n",
      "using no cache\n",
      "Reading datafile = train.vw\n",
      "num sources = 1\n",
      "average  since         example        example  current  current  current\n",
      "loss     last          counter         weight    label  predict features\n",
      "20.250000 20.250000            1            1.0   4.5000   0.0000      877\n",
      "11.801980 3.353960            2            2.0   4.0000   2.1686      877\n",
      "7.198157 2.594333            4            4.0   4.5000   3.1451      877\n",
      "3.853279 0.508400            8            8.0   3.0000   3.6185      877\n",
      "2.087101 0.320923           16           16.0   4.5000   3.9073      877\n",
      "1.685866 1.284631           32           32.0   3.0000   0.0088        5\n",
      "6.176842 10.667818           64           64.0   3.5000   0.5326        5\n",
      "4.472477 2.768112          128          128.0   2.0000   3.4077      401\n",
      "3.104757 1.737037          256          256.0   3.0000   2.7728       65\n",
      "4.636366 6.167976          512          512.0   5.0000   1.2762        5\n",
      "4.052791 3.469215         1024         1024.0   4.0000   2.6644        5\n",
      "2.591277 1.129763         2048         2048.0   4.0000   3.0138        5\n",
      "1.722928 0.854580         4096         4096.0   4.0000   3.4828        5\n",
      "1.259469 0.796010         8192         8192.0   4.5000   3.4876        5\n",
      "1.145521 1.031572        16384        16384.0   4.5000   3.6707        5\n",
      "1.067842 0.990164        32768        32768.0   4.0000   3.7067        5\n",
      "0.937263 0.806684        65536        65536.0   2.5000   3.0408        5\n",
      "0.947253 0.957243       131072       131072.0   3.5000   3.3443        5\n",
      "\n",
      "finished run\n",
      "number of examples = 156422\n",
      "weighted example sum = 156422.000000\n",
      "weighted label sum = 537581.500000\n",
      "average loss = 0.951127\n",
      "best constant = 3.436738\n",
      "total feature number = 68526394\n"
     ]
    }
   ],
   "source": [
    "!vw -d train.vw -f test_model.vw -q fh"
   ]
  },
  {
   "cell_type": "code",
   "execution_count": 20,
   "metadata": {},
   "outputs": [
    {
     "name": "stdout",
     "output_type": "stream",
     "text": [
      "creating quadratic features for pairs: fh \n",
      "only testing\n",
      "predictions = test_predictions.txt\n",
      "Num weight bits = 18\n",
      "learning rate = 0.5\n",
      "initial_t = 0\n",
      "power_t = 0.5\n",
      "using no cache\n",
      "Reading datafile = test.vw\n",
      "num sources = 1\n",
      "average  since         example        example  current  current  current\n",
      "loss     last          counter         weight    label  predict features\n",
      "    n.a.     n.a.            1            1.0  unknown   3.0492      401\n",
      "    n.a.     n.a.            2            2.0  unknown   4.2378      401\n",
      "    n.a.     n.a.            4            4.0  unknown   4.1563      401\n",
      "    n.a.     n.a.            8            8.0  unknown   4.2627      401\n",
      "    n.a.     n.a.           16           16.0  unknown   4.3651      401\n",
      "    n.a.     n.a.           32           32.0  unknown   4.2025      401\n",
      "    n.a.     n.a.           64           64.0  unknown   5.0000      447\n",
      "    n.a.     n.a.          128          128.0  unknown   3.2055     2021\n",
      "    n.a.     n.a.          256          256.0  unknown   3.8422        5\n",
      "    n.a.     n.a.          512          512.0  unknown   4.4173     1243\n",
      "    n.a.     n.a.         1024         1024.0  unknown   4.9601      515\n",
      "    n.a.     n.a.         2048         2048.0  unknown   3.4352        5\n",
      "    n.a.     n.a.         4096         4096.0  unknown   3.7132     1825\n",
      "    n.a.     n.a.         8192         8192.0  unknown   2.8081      563\n",
      "    n.a.     n.a.        16384        16384.0  unknown   3.2733      681\n",
      "    n.a.     n.a.        32768        32768.0  unknown   3.4393        5\n",
      "\n",
      "finished run\n",
      "number of examples = 56232\n",
      "weighted example sum = 56232.000000\n",
      "weighted label sum = 0.000000\n",
      "average loss = n.a.\n",
      "total feature number = 50302086\n"
     ]
    }
   ],
   "source": [
    "!vw -i test_model.vw -t -d test.vw -p test_predictions.txt"
   ]
  },
  {
   "cell_type": "code",
   "execution_count": 21,
   "metadata": {},
   "outputs": [
    {
     "data": {
      "text/plain": [
       "1.171798280267126"
      ]
     },
     "execution_count": 21,
     "metadata": {},
     "output_type": "execute_result"
    }
   ],
   "source": [
    "preds = []\n",
    "from sklearn.metrics import mean_squared_error\n",
    "with open('test_predictions.txt') as f:\n",
    "    for line in f:\n",
    "        pred = float(line.strip())\n",
    "        preds.append(pred)\n",
    "mean_squared_error(test_data['rating'], preds)"
   ]
  },
  {
   "cell_type": "code",
   "execution_count": null,
   "metadata": {
    "collapsed": true
   },
   "outputs": [],
   "source": []
  }
 ],
 "metadata": {
  "anaconda-cloud": {},
  "kernelspec": {
   "display_name": "Python 3",
   "language": "python",
   "name": "python3"
  },
  "language_info": {
   "codemirror_mode": {
    "name": "ipython",
    "version": 3
   },
   "file_extension": ".py",
   "mimetype": "text/x-python",
   "name": "python",
   "nbconvert_exporter": "python",
   "pygments_lexer": "ipython3",
   "version": "3.7.3"
  }
 },
 "nbformat": 4,
 "nbformat_minor": 2
}
